{
 "cells": [
  {
   "cell_type": "code",
   "execution_count": 2,
   "metadata": {},
   "outputs": [
    {
     "ename": "KeyboardInterrupt",
     "evalue": "",
     "output_type": "error",
     "traceback": [
      "\u001b[1;31m---------------------------------------------------------------------------\u001b[0m",
      "\u001b[1;31mKeyboardInterrupt\u001b[0m                         Traceback (most recent call last)",
      "Cell \u001b[1;32mIn[2], line 57\u001b[0m\n\u001b[0;32m     54\u001b[0m process_interval \u001b[38;5;241m=\u001b[39m \u001b[38;5;241m1\u001b[39m  \u001b[38;5;66;03m# Elabora un frame ogni 10 frame\u001b[39;00m\n\u001b[0;32m     56\u001b[0m \u001b[38;5;28;01mwhile\u001b[39;00m \u001b[38;5;28;01mTrue\u001b[39;00m:\n\u001b[1;32m---> 57\u001b[0m     ret, frame \u001b[38;5;241m=\u001b[39m \u001b[43mcap\u001b[49m\u001b[38;5;241;43m.\u001b[39;49m\u001b[43mread\u001b[49m\u001b[43m(\u001b[49m\u001b[43m)\u001b[49m\n\u001b[0;32m     59\u001b[0m     \u001b[38;5;28;01mif\u001b[39;00m ret:\n\u001b[0;32m     60\u001b[0m         \u001b[38;5;66;03m# Ogni N frame invia il frame per l'elaborazione\u001b[39;00m\n\u001b[0;32m     61\u001b[0m         \u001b[38;5;28;01mif\u001b[39;00m frame_count \u001b[38;5;241m%\u001b[39m process_interval \u001b[38;5;241m==\u001b[39m \u001b[38;5;241m0\u001b[39m:\n\u001b[0;32m     62\u001b[0m             \u001b[38;5;66;03m# Invia una versione ridotta del frame per l'elaborazione (640x480 o inferiore)\u001b[39;00m\n",
      "\u001b[1;31mKeyboardInterrupt\u001b[0m: "
     ]
    },
    {
     "ename": "",
     "evalue": "",
     "output_type": "error",
     "traceback": [
      "\u001b[1;31mThe Kernel crashed while executing code in the current cell or a previous cell. \n",
      "\u001b[1;31mPlease review the code in the cell(s) to identify a possible cause of the failure. \n",
      "\u001b[1;31mClick <a href='https://aka.ms/vscodeJupyterKernelCrash'>here</a> for more info. \n",
      "\u001b[1;31mView Jupyter <a href='command:jupyter.viewOutput'>log</a> for further details."
     ]
    }
   ],
   "source": [
    "import cv2\n",
    "from concurrent.futures import ThreadPoolExecutor\n",
    "import face_recognition\n",
    "import time\n",
    "\n",
    "# Apri la webcam\n",
    "cap = cv2.VideoCapture(0, cv2.CAP_DSHOW)\n",
    "\n",
    "if not cap.isOpened():\n",
    "    print(\"Error: Unable to open webcam.\")\n",
    "    exit()\n",
    "\n",
    "cap.set(cv2.CAP_PROP_FRAME_WIDTH, 640)\n",
    "cap.set(cv2.CAP_PROP_FRAME_HEIGHT, 480)\n",
    "\n",
    "# Carica e codifica l'immagine di riferimento\n",
    "reference_img = face_recognition.load_image_file(\"reference.jpg\")\n",
    "reference_encoding = face_recognition.face_encodings(reference_img)[0]\n",
    "\n",
    "# Variabile globale per memorizzare il risultato dell'elaborazione\n",
    "face_match = False\n",
    "processing = False  # Variabile per verificare se è in corso un'elaborazione facciale\n",
    "\n",
    "# Funzione che verifica il volto in un thread separato\n",
    "def check_face(frame):\n",
    "    global face_match, processing\n",
    "    try:\n",
    "        # Trova i volti nel frame corrente\n",
    "        face_locations = face_recognition.face_locations(frame)\n",
    "        face_encodings = face_recognition.face_encodings(frame, face_locations)\n",
    "\n",
    "        for face_encoding in face_encodings:\n",
    "            # Confronta il volto rilevato con l'immagine di riferimento\n",
    "            matches = face_recognition.compare_faces([reference_encoding], face_encoding)\n",
    "            face_match = any(matches)\n",
    "            if face_match:\n",
    "                break  # Se c'è una corrispondenza, esci dal loop\n",
    "    finally:\n",
    "        # Quando il confronto è completato, libera il flag di elaborazione\n",
    "        processing = False\n",
    "\n",
    "# Funzione per l'elaborazione asincrona ogni N frame\n",
    "def process_face_async(frame):\n",
    "    global processing\n",
    "    if not processing:  # Se non è già in corso un'elaborazione\n",
    "        processing = True  # Imposta il flag per indicare che stiamo elaborando\n",
    "        # Invia il frame per l'elaborazione in un thread separato\n",
    "        executor.submit(check_face, frame)\n",
    "\n",
    "# Esegui l'elaborazione asincrona con massimo 2 thread\n",
    "executor = ThreadPoolExecutor(max_workers=2)\n",
    "\n",
    "frame_count = 0\n",
    "process_interval = 1  # Elabora un frame ogni 10 frame\n",
    "\n",
    "while True:\n",
    "    ret, frame = cap.read()\n",
    "\n",
    "    if ret:\n",
    "        # Ogni N frame invia il frame per l'elaborazione\n",
    "        if frame_count % process_interval == 0:\n",
    "            # Invia una versione ridotta del frame per l'elaborazione (640x480 o inferiore)\n",
    "            small_frame = cv2.resize(frame, (0, 0), fx=0.25, fy=0.25)\n",
    "            process_face_async(small_frame)\n",
    "\n",
    "        # Visualizza il risultato dell'ultima elaborazione\n",
    "        if face_match:\n",
    "            cv2.putText(frame, \"MATCH!\", (20, 450), cv2.FONT_HERSHEY_SIMPLEX, 2, (0, 255, 0), 3)\n",
    "        else:\n",
    "            cv2.putText(frame, \"NO MATCH!\", (20, 450), cv2.FONT_HERSHEY_SIMPLEX, 2, (0, 0, 255), 3)\n",
    "\n",
    "        # Mostra il frame corrente\n",
    "        cv2.imshow(\"video\", frame)\n",
    "\n",
    "    frame_count += 1\n",
    "\n",
    "    # Interruzione con il tasto \"q\"\n",
    "    key = cv2.waitKey(1)\n",
    "    if key == ord(\"q\"):\n",
    "        break\n",
    "\n",
    "cap.release()\n",
    "cv2.destroyAllWindows()\n",
    "executor.shutdown()\n"
   ]
  },
  {
   "cell_type": "code",
   "execution_count": null,
   "metadata": {},
   "outputs": [],
   "source": []
  },
  {
   "cell_type": "code",
   "execution_count": null,
   "metadata": {},
   "outputs": [],
   "source": []
  },
  {
   "cell_type": "code",
   "execution_count": null,
   "metadata": {},
   "outputs": [],
   "source": []
  },
  {
   "cell_type": "code",
   "execution_count": null,
   "metadata": {},
   "outputs": [],
   "source": []
  },
  {
   "cell_type": "code",
   "execution_count": null,
   "metadata": {},
   "outputs": [],
   "source": []
  }
 ],
 "metadata": {
  "kernelspec": {
   "display_name": "Python 3",
   "language": "python",
   "name": "python3"
  },
  "language_info": {
   "codemirror_mode": {
    "name": "ipython",
    "version": 3
   },
   "file_extension": ".py",
   "mimetype": "text/x-python",
   "name": "python",
   "nbconvert_exporter": "python",
   "pygments_lexer": "ipython3",
   "version": "3.8.8"
  }
 },
 "nbformat": 4,
 "nbformat_minor": 2
}
